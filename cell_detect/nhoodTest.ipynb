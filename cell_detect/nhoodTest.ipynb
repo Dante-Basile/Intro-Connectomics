{
 "cells": [
  {
   "cell_type": "code",
   "execution_count": 58,
   "metadata": {},
   "outputs": [
    {
     "name": "stdout",
     "output_type": "stream",
     "text": [
      "[[[ 1.  2.  3.  4.]\n",
      "  [ 5.  6.  7.  8.]\n",
      "  [ 9. 10. 11. 12.]\n",
      "  [13. 14. 15. 16.]]\n",
      "\n",
      " [[17. 18. 19. 20.]\n",
      "  [21. 22. 23. 24.]\n",
      "  [25. 26. 27. 28.]\n",
      "  [29. 30. 31. 32.]]\n",
      "\n",
      " [[33. 34. 35. 36.]\n",
      "  [37. 38. 39. 40.]\n",
      "  [41. 42. 43. 44.]\n",
      "  [45. 46. 47. 48.]]\n",
      "\n",
      " [[49. 50. 51. 52.]\n",
      "  [53. 54. 55. 56.]\n",
      "  [57. 58. 59. 60.]\n",
      "  [61. 62. 63. 64.]]]\n",
      "\n",
      "[255. 255. 255. 255. 255. 255. 255. 255. 255. 255. 255. 255. 255.   1.\n",
      "   2. 255.   5.   6. 255. 255. 255. 255.  17.  18. 255.  21.  22.]\n",
      "\n",
      "[[[255. 255. 255.]\n",
      "  [255. 255. 255.]\n",
      "  [255. 255. 255.]]\n",
      "\n",
      " [[255. 255. 255.]\n",
      "  [255.   1.   2.]\n",
      "  [255.   5.   6.]]\n",
      "\n",
      " [[255. 255. 255.]\n",
      "  [255.  17.  18.]\n",
      "  [255.  21.  22.]]]\n",
      "\n",
      "[ 1.  2.  3.  4.  5.  6.  7.  8.  9. 10. 11. 12. 13. 14. 15. 16. 17. 18.\n",
      " 19. 20. 21. 22. 23. 24. 25. 26. 27. 28. 29. 30. 31. 32. 33. 34. 35. 36.\n",
      " 37. 38. 39. 40. 41. 42. 43. 44. 45. 46. 47. 48. 49. 50. 51. 52. 53. 54.\n",
      " 55. 56. 57. 58. 59. 60. 61. 62. 63. 64.]\n",
      "\n",
      "[[[255. 255. 255. 255. 255. 255.]\n",
      "  [255. 255. 255. 255. 255. 255.]\n",
      "  [255. 255. 255. 255. 255. 255.]\n",
      "  [255. 255. 255. 255. 255. 255.]\n",
      "  [255. 255. 255. 255. 255. 255.]\n",
      "  [255. 255. 255. 255. 255. 255.]]\n",
      "\n",
      " [[255. 255. 255. 255. 255. 255.]\n",
      "  [255.   1.   2.   3.   4. 255.]\n",
      "  [255.   5.   6.   7.   8. 255.]\n",
      "  [255.   9.  10.  11.  12. 255.]\n",
      "  [255.  13.  14.  15.  16. 255.]\n",
      "  [255. 255. 255. 255. 255. 255.]]\n",
      "\n",
      " [[255. 255. 255. 255. 255. 255.]\n",
      "  [255.  17.  18.  19.  20. 255.]\n",
      "  [255.  21.  22.  23.  24. 255.]\n",
      "  [255.  25.  26.  27.  28. 255.]\n",
      "  [255.  29.  30.  31.  32. 255.]\n",
      "  [255. 255. 255. 255. 255. 255.]]\n",
      "\n",
      " [[255. 255. 255. 255. 255. 255.]\n",
      "  [255.  33.  34.  35.  36. 255.]\n",
      "  [255.  37.  38.  39.  40. 255.]\n",
      "  [255.  41.  42.  43.  44. 255.]\n",
      "  [255.  45.  46.  47.  48. 255.]\n",
      "  [255. 255. 255. 255. 255. 255.]]\n",
      "\n",
      " [[255. 255. 255. 255. 255. 255.]\n",
      "  [255.  49.  50.  51.  52. 255.]\n",
      "  [255.  53.  54.  55.  56. 255.]\n",
      "  [255.  57.  58.  59.  60. 255.]\n",
      "  [255.  61.  62.  63.  64. 255.]\n",
      "  [255. 255. 255. 255. 255. 255.]]\n",
      "\n",
      " [[255. 255. 255. 255. 255. 255.]\n",
      "  [255. 255. 255. 255. 255. 255.]\n",
      "  [255. 255. 255. 255. 255. 255.]\n",
      "  [255. 255. 255. 255. 255. 255.]\n",
      "  [255. 255. 255. 255. 255. 255.]\n",
      "  [255. 255. 255. 255. 255. 255.]]]\n"
     ]
    }
   ],
   "source": [
    "#TEST NHOOD Process\n",
    "import numpy as np\n",
    "#Make Demo\n",
    "testStack = np.zeros((4, 4, 4))\n",
    "adder = 1\n",
    "for i in range(testStack.shape[0]):\n",
    "    for j in range(testStack.shape[1]):\n",
    "        for k in range(testStack.shape[2]):\n",
    "            testStack[i, j, k] = adder\n",
    "            adder += 1\n",
    "#Test Subroutine\n",
    "radius = 1\n",
    "test_x = np.zeros((np.prod(testStack.shape), (radius*2 + 1)**3)) #shape (n_samples, n_features)\n",
    "# print(np.prod(testStack.shape))\n",
    "# print((radius*2 + 1)**3)\n",
    "testStackPad = np.pad(testStack, ((radius,radius), (radius,radius), (radius,radius)), \n",
    "                    mode='constant', constant_values=(255, 255))\n",
    "xRow = 0\n",
    "for i in range(radius, testStackPad.shape[0] - radius):\n",
    "    for j in range(radius, testStackPad.shape[1] - radius):\n",
    "        for k in range(radius, testStackPad.shape[2] - radius):\n",
    "            test_x[xRow] = testStackPad[i-radius:i+radius+1, j-radius:j+radius+1, \n",
    "                                        k-radius:k+radius+1].flatten()\n",
    "#             print(testStackPad[i-radius:i+radius+1, j-radius:j+radius+1, k-radius:k+radius+1])\n",
    "#             print(test_x[xRow])\n",
    "#             sys.exit()\n",
    "            xRow += 1\n",
    "regCenter = 0\n",
    "print(testStack)\n",
    "print()\n",
    "print(test_x[regCenter])\n",
    "print()\n",
    "print(np.reshape(test_x[regCenter], (radius*2 + 1, radius*2 + 1, radius*2 + 1)))\n",
    "print()\n",
    "print(testStack.flatten())\n",
    "print()\n",
    "print(testStackPad)"
   ]
  },
  {
   "cell_type": "code",
   "execution_count": 43,
   "metadata": {},
   "outputs": [
    {
     "name": "stdout",
     "output_type": "stream",
     "text": [
      "(4, 4, 3)\n"
     ]
    }
   ],
   "source": [
    "testStack[:,:,0]\n",
    "print(testStack.shape)"
   ]
  },
  {
   "cell_type": "code",
   "execution_count": 30,
   "metadata": {},
   "outputs": [
    {
     "data": {
      "text/plain": [
       "7.0"
      ]
     },
     "execution_count": 30,
     "metadata": {},
     "output_type": "execute_result"
    }
   ],
   "source": [
    "testStack[0,1,2]"
   ]
  },
  {
   "cell_type": "code",
   "execution_count": null,
   "metadata": {},
   "outputs": [],
   "source": []
  }
 ],
 "metadata": {
  "kernelspec": {
   "display_name": "Python 3",
   "language": "python",
   "name": "python3"
  },
  "language_info": {
   "codemirror_mode": {
    "name": "ipython",
    "version": 3
   },
   "file_extension": ".py",
   "mimetype": "text/x-python",
   "name": "python",
   "nbconvert_exporter": "python",
   "pygments_lexer": "ipython3",
   "version": "3.7.4"
  }
 },
 "nbformat": 4,
 "nbformat_minor": 2
}
