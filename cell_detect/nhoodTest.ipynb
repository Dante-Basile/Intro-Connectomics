{
 "cells": [
  {
   "cell_type": "code",
   "execution_count": 1,
   "metadata": {},
   "outputs": [
    {
     "name": "stdout",
     "output_type": "stream",
     "text": [
      "[[[ 1.  2.  3.  4.]\n",
      "  [ 5.  6.  7.  8.]\n",
      "  [ 9. 10. 11. 12.]\n",
      "  [13. 14. 15. 16.]]\n",
      "\n",
      " [[17. 18. 19. 20.]\n",
      "  [21. 22. 23. 24.]\n",
      "  [25. 26. 27. 28.]\n",
      "  [29. 30. 31. 32.]]\n",
      "\n",
      " [[33. 34. 35. 36.]\n",
      "  [37. 38. 39. 40.]\n",
      "  [41. 42. 43. 44.]\n",
      "  [45. 46. 47. 48.]]\n",
      "\n",
      " [[49. 50. 51. 52.]\n",
      "  [53. 54. 55. 56.]\n",
      "  [57. 58. 59. 60.]\n",
      "  [61. 62. 63. 64.]]]\n"
     ]
    },
    {
     "data": {
      "text/plain": [
       "array([[255., 255., 255., ..., 255.,  21.,  22.],\n",
       "       [255., 255., 255., ...,  21.,  22.,  23.],\n",
       "       [255., 255., 255., ...,  22.,  23.,  24.],\n",
       "       ...,\n",
       "       [ 41.,  42.,  43., ..., 255., 255., 255.],\n",
       "       [ 42.,  43.,  44., ..., 255., 255., 255.],\n",
       "       [ 43.,  44., 255., ..., 255., 255., 255.]])"
      ]
     },
     "execution_count": 1,
     "metadata": {},
     "output_type": "execute_result"
    }
   ],
   "source": [
    "#TEST NHOOD Process\n",
    "import numpy as np\n",
    "#Make Demo\n",
    "testStack = np.zeros((4, 4, 4))\n",
    "adder = 1\n",
    "for i in range(testStack.shape[0]):\n",
    "    for j in range(testStack.shape[1]):\n",
    "        for k in range(testStack.shape[2]):\n",
    "            testStack[i, j, k] = adder\n",
    "            adder += 1\n",
    "print(testStack)\n",
    "#Test Subroutine\n",
    "radius = 1\n",
    "test_x = np.zeros((np.prod(testStack.shape), (radius*2 + 1)**3)) #shape (n_samples, n_features)\n",
    "# print(np.prod(testStack.shape))\n",
    "# print((radius*2 + 1)**3)\n",
    "testStackPad = np.pad(testStack, ((radius,radius), (radius,radius), (radius,radius)), \n",
    "                    mode='constant', constant_values=(255, 255))\n",
    "xRow = 0\n",
    "for i in range(radius, testStackPad.shape[0] - radius):\n",
    "    for j in range(radius, testStackPad.shape[1] - radius):\n",
    "        for k in range(radius, testStackPad.shape[2] - radius):\n",
    "            test_x[xRow] = testStackPad[i-radius:i+radius+1, j-radius:j+radius+1, \n",
    "                                        k-radius:k+radius+1].flatten()\n",
    "#             print(testStackPad[i-radius:i+radius+1, j-radius:j+radius+1, k-radius:k+radius+1])\n",
    "#             print(test_x[xRow])\n",
    "#             sys.exit()\n",
    "            xRow += 1\n",
    "test_x"
   ]
  },
  {
   "cell_type": "code",
   "execution_count": null,
   "metadata": {},
   "outputs": [],
   "source": []
  }
 ],
 "metadata": {
  "kernelspec": {
   "display_name": "Python 3",
   "language": "python",
   "name": "python3"
  },
  "language_info": {
   "codemirror_mode": {
    "name": "ipython",
    "version": 3
   },
   "file_extension": ".py",
   "mimetype": "text/x-python",
   "name": "python",
   "nbconvert_exporter": "python",
   "pygments_lexer": "ipython3",
   "version": "3.7.4"
  }
 },
 "nbformat": 4,
 "nbformat_minor": 2
}
