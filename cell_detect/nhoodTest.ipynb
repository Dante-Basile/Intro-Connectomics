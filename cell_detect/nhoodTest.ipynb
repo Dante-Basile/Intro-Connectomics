{
 "cells": [
  {
   "cell_type": "code",
   "execution_count": 48,
   "metadata": {},
   "outputs": [
    {
     "name": "stdout",
     "output_type": "stream",
     "text": [
      "[[[ 1.  2.  3.]\n",
      "  [ 4.  5.  6.]\n",
      "  [ 7.  8.  9.]\n",
      "  [10. 11. 12.]]\n",
      "\n",
      " [[13. 14. 15.]\n",
      "  [16. 17. 18.]\n",
      "  [19. 20. 21.]\n",
      "  [22. 23. 24.]]\n",
      "\n",
      " [[25. 26. 27.]\n",
      "  [28. 29. 30.]\n",
      "  [31. 32. 33.]\n",
      "  [34. 35. 36.]]\n",
      "\n",
      " [[37. 38. 39.]\n",
      "  [40. 41. 42.]\n",
      "  [43. 44. 45.]\n",
      "  [46. 47. 48.]]]\n",
      "[255. 255. 255. 255. 255. 255. 255. 255. 255. 255. 255. 255.   1.   2.\n",
      "   3.   4.   5.   6. 255. 255. 255.  13.  14.  15.  16.  17.  18.]\n",
      "\n",
      "[ 1.  2.  3.  4.  5.  6.  7.  8.  9. 10. 11. 12. 13. 14. 15. 16. 17. 18.\n",
      " 19. 20. 21. 22. 23. 24. 25. 26. 27. 28. 29. 30. 31. 32. 33. 34. 35. 36.\n",
      " 37. 38. 39. 40. 41. 42. 43. 44. 45. 46. 47. 48.]\n",
      "[[[255. 255. 255. 255. 255.]\n",
      "  [255. 255. 255. 255. 255.]\n",
      "  [255. 255. 255. 255. 255.]\n",
      "  [255. 255. 255. 255. 255.]\n",
      "  [255. 255. 255. 255. 255.]\n",
      "  [255. 255. 255. 255. 255.]]\n",
      "\n",
      " [[255. 255. 255. 255. 255.]\n",
      "  [255.   1.   2.   3. 255.]\n",
      "  [255.   4.   5.   6. 255.]\n",
      "  [255.   7.   8.   9. 255.]\n",
      "  [255.  10.  11.  12. 255.]\n",
      "  [255. 255. 255. 255. 255.]]\n",
      "\n",
      " [[255. 255. 255. 255. 255.]\n",
      "  [255.  13.  14.  15. 255.]\n",
      "  [255.  16.  17.  18. 255.]\n",
      "  [255.  19.  20.  21. 255.]\n",
      "  [255.  22.  23.  24. 255.]\n",
      "  [255. 255. 255. 255. 255.]]\n",
      "\n",
      " [[255. 255. 255. 255. 255.]\n",
      "  [255.  25.  26.  27. 255.]\n",
      "  [255.  28.  29.  30. 255.]\n",
      "  [255.  31.  32.  33. 255.]\n",
      "  [255.  34.  35.  36. 255.]\n",
      "  [255. 255. 255. 255. 255.]]\n",
      "\n",
      " [[255. 255. 255. 255. 255.]\n",
      "  [255.  37.  38.  39. 255.]\n",
      "  [255.  40.  41.  42. 255.]\n",
      "  [255.  43.  44.  45. 255.]\n",
      "  [255.  46.  47.  48. 255.]\n",
      "  [255. 255. 255. 255. 255.]]\n",
      "\n",
      " [[255. 255. 255. 255. 255.]\n",
      "  [255. 255. 255. 255. 255.]\n",
      "  [255. 255. 255. 255. 255.]\n",
      "  [255. 255. 255. 255. 255.]\n",
      "  [255. 255. 255. 255. 255.]\n",
      "  [255. 255. 255. 255. 255.]]]\n"
     ]
    }
   ],
   "source": [
    "#TEST NHOOD Process\n",
    "import numpy as np\n",
    "#Make Demo\n",
    "testStack = np.zeros((4, 4, 3))\n",
    "adder = 1\n",
    "for i in range(testStack.shape[0]):\n",
    "    for j in range(testStack.shape[1]):\n",
    "        for k in range(testStack.shape[2]):\n",
    "            testStack[i, j, k] = adder\n",
    "            adder += 1\n",
    "#Test Subroutine\n",
    "radius = 1\n",
    "test_x = np.zeros((np.prod(testStack.shape), (radius*2 + 1)**3)) #shape (n_samples, n_features)\n",
    "# print(np.prod(testStack.shape))\n",
    "# print((radius*2 + 1)**3)\n",
    "testStackPad = np.pad(testStack, ((radius,radius), (radius,radius), (radius,radius)), \n",
    "                    mode='constant', constant_values=(255, 255))\n",
    "xRow = 0\n",
    "for i in range(radius, testStackPad.shape[0] - radius):\n",
    "    for j in range(radius, testStackPad.shape[1] - radius):\n",
    "        for k in range(radius, testStackPad.shape[2] - radius):\n",
    "            test_x[xRow] = testStackPad[i-radius:i+radius+1, j-radius:j+radius+1, \n",
    "                                        k-radius:k+radius+1].flatten()\n",
    "#             print(testStackPad[i-radius:i+radius+1, j-radius:j+radius+1, k-radius:k+radius+1])\n",
    "#             print(test_x[xRow])\n",
    "#             sys.exit()\n",
    "            xRow += 1\n",
    "print(testStack)\n",
    "print(test_x[1])\n",
    "print()\n",
    "print(testStack.flatten())\n",
    "print(testStackPad)"
   ]
  },
  {
   "cell_type": "code",
   "execution_count": 43,
   "metadata": {},
   "outputs": [
    {
     "name": "stdout",
     "output_type": "stream",
     "text": [
      "(4, 4, 3)\n"
     ]
    }
   ],
   "source": [
    "testStack[:,:,0]\n",
    "print(testStack.shape)"
   ]
  },
  {
   "cell_type": "code",
   "execution_count": 30,
   "metadata": {},
   "outputs": [
    {
     "data": {
      "text/plain": [
       "7.0"
      ]
     },
     "execution_count": 30,
     "metadata": {},
     "output_type": "execute_result"
    }
   ],
   "source": [
    "testStack[0,1,2]"
   ]
  },
  {
   "cell_type": "code",
   "execution_count": null,
   "metadata": {},
   "outputs": [],
   "source": []
  }
 ],
 "metadata": {
  "kernelspec": {
   "display_name": "Python 3",
   "language": "python",
   "name": "python3"
  },
  "language_info": {
   "codemirror_mode": {
    "name": "ipython",
    "version": 3
   },
   "file_extension": ".py",
   "mimetype": "text/x-python",
   "name": "python",
   "nbconvert_exporter": "python",
   "pygments_lexer": "ipython3",
   "version": "3.7.4"
  }
 },
 "nbformat": 4,
 "nbformat_minor": 2
}
